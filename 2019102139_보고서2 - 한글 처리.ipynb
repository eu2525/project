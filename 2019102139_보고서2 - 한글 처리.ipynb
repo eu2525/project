{
 "cells": [
  {
   "cell_type": "markdown",
   "metadata": {},
   "source": [
    "#### 약어를 음소로 분리하고 합치기 위한 jamotools library 가져오기"
   ]
  },
  {
   "cell_type": "code",
   "execution_count": 1,
   "metadata": {},
   "outputs": [],
   "source": [
    "import jamotools"
   ]
  },
  {
   "cell_type": "markdown",
   "metadata": {},
   "source": [
    "#### Hangul.txt 불러오기"
   ]
  },
  {
   "cell_type": "code",
   "execution_count": 2,
   "metadata": {},
   "outputs": [
    {
     "name": "stdout",
     "output_type": "stream",
     "text": [
      "ㄱ1ㅕ2ㅇ3ㅎ1ㅢ2ㄷ1ㅐ2ㅎ1ㅏ2ㄱ3ㄱ1ㅛ2  \n"
     ]
    }
   ],
   "source": [
    "f = open('Hangul1.txt','r')\n",
    "contents = f.read()\n",
    "print(contents)\n",
    "f.close()"
   ]
  },
  {
   "cell_type": "markdown",
   "metadata": {},
   "source": [
    "#### 점자의 규칙성을 이용하여 약어 처리\n",
    "ex1) 초성 다음에 초성이 올 수 없으므로 약어가 다음으로 와야한다.(괄호부분 설명) <br>\n",
    "ex2) 초성 다음에 오는 약어는 초성과 합하여 'ㅇ'을 생략하고 합친다. <br>\n",
    "약어는 jamotools library를 이용하여 음소로 분리한다."
   ]
  },
  {
   "cell_type": "code",
   "execution_count": 3,
   "metadata": {
    "scrolled": true
   },
   "outputs": [
    {
     "ename": "IndexError",
     "evalue": "list index out of range",
     "output_type": "error",
     "traceback": [
      "\u001b[1;31m---------------------------------------------------------------------------\u001b[0m",
      "\u001b[1;31mIndexError\u001b[0m                                Traceback (most recent call last)",
      "\u001b[1;32m<ipython-input-3-f1466e04e8e8>\u001b[0m in \u001b[0;36m<module>\u001b[1;34m\u001b[0m\n\u001b[0;32m     33\u001b[0m             \u001b[0mcheck_number\u001b[0m \u001b[1;33m=\u001b[0m \u001b[1;36m0\u001b[0m\u001b[1;33m\u001b[0m\u001b[1;33m\u001b[0m\u001b[0m\n\u001b[0;32m     34\u001b[0m     \u001b[1;32melif\u001b[0m \u001b[0mcheck_number\u001b[0m \u001b[1;33m==\u001b[0m \u001b[1;36m2\u001b[0m\u001b[1;33m:\u001b[0m\u001b[1;33m\u001b[0m\u001b[1;33m\u001b[0m\u001b[0m\n\u001b[1;32m---> 35\u001b[1;33m         \u001b[1;32mif\u001b[0m \u001b[0mcheck_list\u001b[0m\u001b[1;33m[\u001b[0m\u001b[0midx\u001b[0m\u001b[1;33m]\u001b[0m \u001b[1;33m==\u001b[0m \u001b[1;34m'1'\u001b[0m\u001b[1;33m:\u001b[0m\u001b[1;33m\u001b[0m\u001b[1;33m\u001b[0m\u001b[0m\n\u001b[0m\u001b[0;32m     36\u001b[0m             \u001b[1;32mdel\u001b[0m \u001b[0mcheck_list\u001b[0m\u001b[1;33m[\u001b[0m\u001b[0midx\u001b[0m\u001b[1;33m-\u001b[0m\u001b[1;36m2\u001b[0m\u001b[1;33m]\u001b[0m\u001b[1;33m\u001b[0m\u001b[1;33m\u001b[0m\u001b[0m\n\u001b[0;32m     37\u001b[0m             \u001b[0mcheck_number\u001b[0m \u001b[1;33m=\u001b[0m \u001b[1;36m1\u001b[0m\u001b[1;33m\u001b[0m\u001b[1;33m\u001b[0m\u001b[0m\n",
      "\u001b[1;31mIndexError\u001b[0m: list index out of range"
     ]
    }
   ],
   "source": [
    "check_list=[]\n",
    "done_list=[]\n",
    "for i in contents:\n",
    "    check_list.append(i)\n",
    "idx_number = 0\n",
    "idx = 0\n",
    "check_number=0\n",
    "while idx != len(check_list):\n",
    "    idx_number += 0.5\n",
    "    idx = int(idx_number)\n",
    "    if check_number == 1:\n",
    "        if check_list[idx] == '2':\n",
    "            del check_list[idx-2]\n",
    "            check_number = 2\n",
    "        elif check_list[idx] == '(':\n",
    "            del check_list[idx+4:idx+6]\n",
    "            a = jamotools.split_syllable_char(check_list[idx+3])\n",
    "            del check_list[idx+3]\n",
    "            k=0\n",
    "            for i in a[1:]:\n",
    "                check_list.insert(idx+3+k,i)\n",
    "                k += 1\n",
    "            check_number = 0\n",
    "            del check_list[idx-1:idx+3] \n",
    "        elif check_list[idx] == '4':\n",
    "            a = jamotools.split_syllable_char(check_list[idx-1])\n",
    "            k=0\n",
    "            for i in a[1:]:\n",
    "                check_list.insert(idx-1+k,i)\n",
    "                k += 1\n",
    "            del check_list[idx-2]\n",
    "            del check_list[idx:idx+2]\n",
    "            check_number = 0        \n",
    "    elif check_number == 2:\n",
    "        if check_list[idx] == '1':\n",
    "            del check_list[idx-2]\n",
    "            check_number = 1\n",
    "        elif check_list[idx] == '2':\n",
    "            if check_list[idx-3] == 'ㅑ':\n",
    "                check_list[idx-3] = 'ㅒ'\n",
    "                del check_list[idx-1:idx]\n",
    "                check_number = 2\n",
    "            if check_list[idx-3] == 'ㅜ':\n",
    "                check_list[idx-3] = 'ㅟ'\n",
    "                del check_list[idx-1:idx]\n",
    "                check_number = 2\n",
    "        elif check_list[idx] == '3':\n",
    "            del check_list[idx-2]\n",
    "            check_number = 3\n",
    "        elif check_list[idx] == '0':\n",
    "            del check_list[idx-2]\n",
    "            check_number = '0'\n",
    "        elif check_list[idx] == '(':\n",
    "            check_number = 4\n",
    "            del check_list[idx-1]\n",
    "    elif check_number == 3:\n",
    "        if check_list[idx] == '1':\n",
    "            del check_list[idx-2]\n",
    "            check_number = 1\n",
    "        elif check_list[idx] == '(':\n",
    "            check_number = 4\n",
    "            del check_list[idx-1]\n",
    "        elif check_list[idx] == '0':\n",
    "            del check_list[idx-2]\n",
    "            check_number = '0'\n",
    "        elif check_list[idx] == '4':\n",
    "            a = jamotools.split_syllable_char(check_list[idx-1])\n",
    "            k=0\n",
    "            del check_list[idx-1:idx+1]\n",
    "            for i in a:\n",
    "                check_list.insert(idx-1+k,i)\n",
    "                k += 1\n",
    "            del check_list[idx-2]\n",
    "            check_number = 0\n",
    "    elif check_number == 4:\n",
    "        if check_list[idx] == '1':\n",
    "            del check_list[idx-7:idx-4]\n",
    "            del check_list[idx-3:idx-1]\n",
    "            a = jamotools.split_syllable_char(check_list[idx-4])\n",
    "            k=0\n",
    "            for i in a:\n",
    "                check_list.insert(idx-4+k,i)\n",
    "                k += 1\n",
    "            check_number = 0\n",
    "        elif check_list[idx] == '2':\n",
    "            del check_list[idx-5:idx-1]\n",
    "            del check_list[idx-7]\n",
    "            check_number = 2\n",
    "    elif check_number == '0':\n",
    "        if check_list[idx] == '1':\n",
    "            del check_list[idx-2]\n",
    "            check_number = 1\n",
    "        elif check_list[idx] == '4':\n",
    "            del check_list[idx-2]\n",
    "            a = jamotools.split_syllable_char(check_list[idx-1])\n",
    "            k=0\n",
    "            for i in a:\n",
    "                check_list.insert(idx-1+k,i)\n",
    "                k += 1\n",
    "            check_number = 0\n",
    "    elif check_number == 0:\n",
    "        if check_list[idx] == '0':\n",
    "            check_number = '0'\n",
    "        elif check_list[idx] == '1':\n",
    "            check_number = 1\n",
    "        elif check_list[idx] =='2':\n",
    "            check_number = 2\n",
    "        elif check_list[idx] == '3':\n",
    "            check_number =3\n",
    "        elif check_list[idx] == '4':\n",
    "            a = jamotools.split_syllable_char(check_list[idx-1])\n",
    "            k=0\n",
    "            for i in a:\n",
    "                check_list.insert(idx-1+k,i)\n",
    "                k += 1\n",
    "            check_number = 0\n",
    "check_list.pop()\n",
    "print(check_list)"
   ]
  },
  {
   "cell_type": "markdown",
   "metadata": {},
   "source": [
    "#### jamotools를 이용하여 음소를 음절로 바꿈"
   ]
  },
  {
   "cell_type": "code",
   "execution_count": 7,
   "metadata": {},
   "outputs": [],
   "source": [
    "Hangul = ''\n",
    "for i in check_list:\n",
    "    Hangul += i\n"
   ]
  },
  {
   "cell_type": "code",
   "execution_count": 8,
   "metadata": {},
   "outputs": [],
   "source": [
    "sentence = jamotools.join_jamos(Hangul)"
   ]
  },
  {
   "cell_type": "markdown",
   "metadata": {},
   "source": [
    "#### Hangul_Done.txt에 저장"
   ]
  },
  {
   "cell_type": "code",
   "execution_count": 6,
   "metadata": {},
   "outputs": [],
   "source": [
    "f = open('Hangul_Done.txt','w')\n",
    "f.write(sentence)\n",
    "f.close()"
   ]
  }
 ],
 "metadata": {
  "kernelspec": {
   "display_name": "Python 3",
   "language": "python",
   "name": "python3"
  },
  "language_info": {
   "codemirror_mode": {
    "name": "ipython",
    "version": 3
   },
   "file_extension": ".py",
   "mimetype": "text/x-python",
   "name": "python",
   "nbconvert_exporter": "python",
   "pygments_lexer": "ipython3",
   "version": "3.6.9"
  }
 },
 "nbformat": 4,
 "nbformat_minor": 2
}
